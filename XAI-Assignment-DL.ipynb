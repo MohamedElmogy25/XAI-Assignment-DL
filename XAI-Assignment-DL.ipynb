{
 "cells": [
  {
   "cell_type": "code",
   "execution_count": 20,
   "id": "eaed66bd",
   "metadata": {},
   "outputs": [],
   "source": [
    "import numpy as np\n",
    "import pandas as pd\n",
    "import matplotlib.pyplot as plt\n",
    "import seaborn as sns\n",
    "from sklearn.model_selection import train_test_split\n",
    "from sklearn.ensemble import RandomForestClassifier\n",
    "from sklearn.metrics import accuracy_score, classification_report\n",
    "from sklearn.preprocessing import StandardScaler\n",
    "import shap\n",
    "import lime.lime_tabular\n",
    "from pdpbox import pdp"
   ]
  },
  {
   "cell_type": "code",
   "execution_count": 21,
   "id": "14687e36",
   "metadata": {},
   "outputs": [],
   "source": [
    "plt.style.use('ggplot')"
   ]
  },
  {
   "cell_type": "code",
   "execution_count": 25,
   "id": "9ea9ca96",
   "metadata": {},
   "outputs": [
    {
     "name": "stdout",
     "output_type": "stream",
     "text": [
      "Dataset shape: (297, 14)\n",
      "    age  sex   cp  trestbps   chol  fbs  restecg  thalach  exang  oldpeak  \\\n",
      "0  63.0  1.0  1.0     145.0  233.0  1.0      2.0    150.0    0.0      2.3   \n",
      "1  67.0  1.0  4.0     160.0  286.0  0.0      2.0    108.0    1.0      1.5   \n",
      "2  67.0  1.0  4.0     120.0  229.0  0.0      2.0    129.0    1.0      2.6   \n",
      "3  37.0  1.0  3.0     130.0  250.0  0.0      0.0    187.0    0.0      3.5   \n",
      "4  41.0  0.0  2.0     130.0  204.0  0.0      2.0    172.0    0.0      1.4   \n",
      "\n",
      "   slope   ca  thal  target  \n",
      "0    3.0  0.0   6.0       0  \n",
      "1    2.0  3.0   3.0       1  \n",
      "2    2.0  2.0   7.0       1  \n",
      "3    3.0  0.0   3.0       0  \n",
      "4    1.0  0.0   3.0       0  \n"
     ]
    }
   ],
   "source": [
    "url = \"https://archive.ics.uci.edu/ml/machine-learning-databases/heart-disease/processed.cleveland.data\"\n",
    "column_names = ['age', 'sex', 'cp', 'trestbps', 'chol', 'fbs', 'restecg', 'thalach', \n",
    "                'exang', 'oldpeak', 'slope', 'ca', 'thal', 'target']\n",
    "data = pd.read_csv(url, names=column_names, na_values='?')\n",
    "data = data.dropna()\n",
    "data['target'] = data['target'].apply(lambda x: 0 if x == 0 else 1)  # Binary target\n",
    "\n",
    "print(f\"Dataset shape: {data.shape}\")\n",
    "print(data.head())"
   ]
  },
  {
   "cell_type": "code",
   "execution_count": 26,
   "id": "9936492a",
   "metadata": {},
   "outputs": [],
   "source": [
    "X = data.drop('target', axis=1)\n",
    "y = data['target']\n",
    "X_train, X_test, y_train, y_test = train_test_split(X, y, test_size=0.25, random_state=42)"
   ]
  },
  {
   "cell_type": "code",
   "execution_count": 27,
   "id": "f223682b",
   "metadata": {},
   "outputs": [],
   "source": [
    "scaler = StandardScaler()\n",
    "X_train_scaled = scaler.fit_transform(X_train)\n",
    "X_test_scaled = scaler.transform(X_test)"
   ]
  },
  {
   "cell_type": "code",
   "execution_count": 28,
   "id": "e9ef6f14",
   "metadata": {},
   "outputs": [
    {
     "data": {
      "text/html": [
       "<style>#sk-container-id-2 {color: black;background-color: white;}#sk-container-id-2 pre{padding: 0;}#sk-container-id-2 div.sk-toggleable {background-color: white;}#sk-container-id-2 label.sk-toggleable__label {cursor: pointer;display: block;width: 100%;margin-bottom: 0;padding: 0.3em;box-sizing: border-box;text-align: center;}#sk-container-id-2 label.sk-toggleable__label-arrow:before {content: \"▸\";float: left;margin-right: 0.25em;color: #696969;}#sk-container-id-2 label.sk-toggleable__label-arrow:hover:before {color: black;}#sk-container-id-2 div.sk-estimator:hover label.sk-toggleable__label-arrow:before {color: black;}#sk-container-id-2 div.sk-toggleable__content {max-height: 0;max-width: 0;overflow: hidden;text-align: left;background-color: #f0f8ff;}#sk-container-id-2 div.sk-toggleable__content pre {margin: 0.2em;color: black;border-radius: 0.25em;background-color: #f0f8ff;}#sk-container-id-2 input.sk-toggleable__control:checked~div.sk-toggleable__content {max-height: 200px;max-width: 100%;overflow: auto;}#sk-container-id-2 input.sk-toggleable__control:checked~label.sk-toggleable__label-arrow:before {content: \"▾\";}#sk-container-id-2 div.sk-estimator input.sk-toggleable__control:checked~label.sk-toggleable__label {background-color: #d4ebff;}#sk-container-id-2 div.sk-label input.sk-toggleable__control:checked~label.sk-toggleable__label {background-color: #d4ebff;}#sk-container-id-2 input.sk-hidden--visually {border: 0;clip: rect(1px 1px 1px 1px);clip: rect(1px, 1px, 1px, 1px);height: 1px;margin: -1px;overflow: hidden;padding: 0;position: absolute;width: 1px;}#sk-container-id-2 div.sk-estimator {font-family: monospace;background-color: #f0f8ff;border: 1px dotted black;border-radius: 0.25em;box-sizing: border-box;margin-bottom: 0.5em;}#sk-container-id-2 div.sk-estimator:hover {background-color: #d4ebff;}#sk-container-id-2 div.sk-parallel-item::after {content: \"\";width: 100%;border-bottom: 1px solid gray;flex-grow: 1;}#sk-container-id-2 div.sk-label:hover label.sk-toggleable__label {background-color: #d4ebff;}#sk-container-id-2 div.sk-serial::before {content: \"\";position: absolute;border-left: 1px solid gray;box-sizing: border-box;top: 0;bottom: 0;left: 50%;z-index: 0;}#sk-container-id-2 div.sk-serial {display: flex;flex-direction: column;align-items: center;background-color: white;padding-right: 0.2em;padding-left: 0.2em;position: relative;}#sk-container-id-2 div.sk-item {position: relative;z-index: 1;}#sk-container-id-2 div.sk-parallel {display: flex;align-items: stretch;justify-content: center;background-color: white;position: relative;}#sk-container-id-2 div.sk-item::before, #sk-container-id-2 div.sk-parallel-item::before {content: \"\";position: absolute;border-left: 1px solid gray;box-sizing: border-box;top: 0;bottom: 0;left: 50%;z-index: -1;}#sk-container-id-2 div.sk-parallel-item {display: flex;flex-direction: column;z-index: 1;position: relative;background-color: white;}#sk-container-id-2 div.sk-parallel-item:first-child::after {align-self: flex-end;width: 50%;}#sk-container-id-2 div.sk-parallel-item:last-child::after {align-self: flex-start;width: 50%;}#sk-container-id-2 div.sk-parallel-item:only-child::after {width: 0;}#sk-container-id-2 div.sk-dashed-wrapped {border: 1px dashed gray;margin: 0 0.4em 0.5em 0.4em;box-sizing: border-box;padding-bottom: 0.4em;background-color: white;}#sk-container-id-2 div.sk-label label {font-family: monospace;font-weight: bold;display: inline-block;line-height: 1.2em;}#sk-container-id-2 div.sk-label-container {text-align: center;}#sk-container-id-2 div.sk-container {/* jupyter's `normalize.less` sets `[hidden] { display: none; }` but bootstrap.min.css set `[hidden] { display: none !important; }` so we also need the `!important` here to be able to override the default hidden behavior on the sphinx rendered scikit-learn.org. See: https://github.com/scikit-learn/scikit-learn/issues/21755 */display: inline-block !important;position: relative;}#sk-container-id-2 div.sk-text-repr-fallback {display: none;}</style><div id=\"sk-container-id-2\" class=\"sk-top-container\"><div class=\"sk-text-repr-fallback\"><pre>RandomForestClassifier(random_state=42)</pre><b>In a Jupyter environment, please rerun this cell to show the HTML representation or trust the notebook. <br />On GitHub, the HTML representation is unable to render, please try loading this page with nbviewer.org.</b></div><div class=\"sk-container\" hidden><div class=\"sk-item\"><div class=\"sk-estimator sk-toggleable\"><input class=\"sk-toggleable__control sk-hidden--visually\" id=\"sk-estimator-id-2\" type=\"checkbox\" checked><label for=\"sk-estimator-id-2\" class=\"sk-toggleable__label sk-toggleable__label-arrow\">RandomForestClassifier</label><div class=\"sk-toggleable__content\"><pre>RandomForestClassifier(random_state=42)</pre></div></div></div></div></div>"
      ],
      "text/plain": [
       "RandomForestClassifier(random_state=42)"
      ]
     },
     "execution_count": 28,
     "metadata": {},
     "output_type": "execute_result"
    }
   ],
   "source": [
    "rf = RandomForestClassifier(n_estimators=100, random_state=42)\n",
    "rf.fit(X_train_scaled, y_train)"
   ]
  },
  {
   "cell_type": "code",
   "execution_count": 30,
   "id": "9e33e3e3",
   "metadata": {},
   "outputs": [
    {
     "name": "stdout",
     "output_type": "stream",
     "text": [
      "Model Accuracy: 0.8533\n"
     ]
    }
   ],
   "source": [
    "y_pred = rf.predict(X_test_scaled)\n",
    "accuracy = accuracy_score(y_test, y_pred)\n",
    "print(f\"Model Accuracy: {accuracy:.4f}\")"
   ]
  },
  {
   "cell_type": "code",
   "execution_count": 31,
   "id": "4196b8e8",
   "metadata": {},
   "outputs": [],
   "source": [
    "plt.figure(figsize=(10, 6))\n",
    "features = X.columns\n",
    "importances = rf.feature_importances_\n",
    "indices = np.argsort(importances)\n",
    "plt.barh(range(len(indices)), importances[indices], align='center')\n",
    "plt.yticks(range(len(indices)), [features[i] for i in indices])\n",
    "plt.title('Feature Importance')\n",
    "plt.tight_layout()\n",
    "plt.savefig('feature_importance.png')\n",
    "plt.close()"
   ]
  },
  {
   "cell_type": "code",
   "execution_count": 32,
   "id": "f70ff6c4",
   "metadata": {},
   "outputs": [
    {
     "name": "stdout",
     "output_type": "stream",
     "text": [
      "1. SHAP Analysis\n"
     ]
    }
   ],
   "source": [
    "print(\"1. SHAP Analysis\")\n",
    "# Create a background dataset for SHAP\n",
    "X_train_summary = pd.DataFrame(X_train_scaled, columns=features)\n",
    "X_test_summary = pd.DataFrame(X_test_scaled, columns=features)"
   ]
  },
  {
   "cell_type": "code",
   "execution_count": 33,
   "id": "76deabda",
   "metadata": {},
   "outputs": [
    {
     "data": {
      "text/plain": [
       "<Figure size 1000x600 with 0 Axes>"
      ]
     },
     "metadata": {},
     "output_type": "display_data"
    }
   ],
   "source": [
    "explainer = shap.TreeExplainer(rf)\n",
    "\n",
    "shap_values = explainer.shap_values(X_test_summary)\n",
    "plt.figure(figsize=(10, 6))\n",
    "\n",
    "if isinstance(shap_values, list):\n",
    "    shap_class_1 = shap_values[1]\n",
    "else:\n",
    "    shap_class_1 = shap_values\n",
    "    \n",
    "shap.summary_plot(shap_class_1, X_test_summary, show=False)\n",
    "plt.title(\"SHAP Summary Plot\")\n",
    "plt.tight_layout()\n",
    "plt.savefig('shap_summary.png')\n",
    "plt.close()"
   ]
  },
  {
   "cell_type": "code",
   "execution_count": 34,
   "id": "c235dbc9",
   "metadata": {},
   "outputs": [
    {
     "name": "stdout",
     "output_type": "stream",
     "text": [
      "Top 3 features by importance: ['thalach', 'ca', 'oldpeak']\n"
     ]
    }
   ],
   "source": [
    "# Get top 3 features based on importance from Random Forest\n",
    "# This is more reliable than SHAP for feature selection in this case\n",
    "sorted_idx = np.argsort(importances)[::-1]\n",
    "top_3_indices = sorted_idx[:3]\n",
    "top_feature_names = [features[i] for i in top_3_indices]\n",
    "print(f\"Top 3 features by importance: {top_feature_names}\")"
   ]
  },
  {
   "cell_type": "code",
   "execution_count": 35,
   "id": "ee015b32",
   "metadata": {},
   "outputs": [
    {
     "name": "stdout",
     "output_type": "stream",
     "text": [
      "2. LIME Analysis\n"
     ]
    }
   ],
   "source": [
    "# 2. LIME Analysis\n",
    "print(\"2. LIME Analysis\")\n",
    "lime_explainer = lime.lime_tabular.LimeTabularExplainer(\n",
    "    X_train_scaled,\n",
    "    feature_names=features,\n",
    "    class_names=['No Disease', 'Disease'],\n",
    "    mode='classification'\n",
    ")"
   ]
  },
  {
   "cell_type": "code",
   "execution_count": 36,
   "id": "f705c16d",
   "metadata": {},
   "outputs": [
    {
     "data": {
      "text/plain": [
       "<Figure size 1000x600 with 0 Axes>"
      ]
     },
     "metadata": {},
     "output_type": "display_data"
    }
   ],
   "source": [
    "# Explain one instance\n",
    "instance_idx = 0\n",
    "lime_exp = lime_explainer.explain_instance(\n",
    "    X_test_scaled[instance_idx], \n",
    "    rf.predict_proba, \n",
    "    num_features=6\n",
    ")\n",
    "\n",
    "plt.figure(figsize=(10, 6))\n",
    "lime_exp.as_pyplot_figure()\n",
    "plt.title(\"LIME Explanation for a Single Prediction\")\n",
    "plt.tight_layout()\n",
    "plt.savefig('lime_explanation.png')\n",
    "plt.close()"
   ]
  },
  {
   "cell_type": "code",
   "execution_count": 37,
   "id": "9a1dff7d",
   "metadata": {},
   "outputs": [
    {
     "name": "stdout",
     "output_type": "stream",
     "text": [
      "3. Partial Dependence Plots\n"
     ]
    }
   ],
   "source": [
    "# 3. Partial Dependence Plots\n",
    "print(\"3. Partial Dependence Plots\")\n",
    "# Use the most important feature for PDP\n",
    "most_important = top_feature_names[0]\n",
    "\n",
    "# Use the simpler scikit-learn for PDP instead of pdpbox\n",
    "from sklearn.inspection import partial_dependence, PartialDependenceDisplay\n",
    "\n",
    "# Get partial dependence values\n",
    "pdp_result = partial_dependence(\n",
    "    rf, \n",
    "    X_train, \n",
    "    [most_important], \n",
    "    kind=\"average\"\n",
    ")"
   ]
  },
  {
   "cell_type": "code",
   "execution_count": 38,
   "id": "953779a4",
   "metadata": {},
   "outputs": [
    {
     "name": "stdout",
     "output_type": "stream",
     "text": [
      "\n",
      "Analysis complete! All visualizations have been saved.\n"
     ]
    }
   ],
   "source": [
    "# Plot the result\n",
    "fig, ax = plt.subplots(figsize=(10, 6))\n",
    "PartialDependenceDisplay.from_estimator(\n",
    "    rf,\n",
    "    X_train,\n",
    "    [most_important],\n",
    "    ax=ax,\n",
    "    line_kw={\"color\": \"red\", \"linewidth\": 2},\n",
    ")\n",
    "plt.title(f\"Partial Dependence Plot: {most_important}\")\n",
    "plt.tight_layout()\n",
    "plt.savefig('pdp_plot.png')\n",
    "plt.close()\n",
    "\n",
    "print(\"\\nAnalysis complete! All visualizations have been saved.\")"
   ]
  },
  {
   "cell_type": "markdown",
   "id": "f46e279b",
   "metadata": {},
   "source": [
    "# Heart Disease Prediction with XAI Techniques\n",
    "\n",
    "## Dataset\n",
    "Used the UCI Heart Disease Dataset with 303 patient records and 13 attributes.\n",
    "\n",
    "## Model\n",
    "Applied a Random Forest classifier for predicting heart disease, with typical accuracy around 80-85%.\n",
    "\n",
    "## Explainable AI (XAI) Methods\n",
    "\n",
    "| Aspect | SHAP (SHapley Additive exPlanations) | LIME (Local Interpretable Model-agnostic Explanations) | Partial Dependence Plots (PDP) |\n",
    "|:------|:-------------------------------------|:------------------------------------------------------|:-------------------------------|\n",
    "| **What it shows** | Each feature’s contribution to predictions across all patients. Red = higher feature value, Blue = lower. Features ranked by importance. | For a single patient: features that influenced that specific prediction, with bars showing positive/negative contributions. | How changing one feature affects predictions, averaged over all others (feature vs. predicted outcome). |\n",
    "| **Pros** | - Based on game theory with theoretical guarantees.<br>- Shows global and individual feature effects.<br>- Captures feature interactions. | - Easy to understand for individual cases.<br>- Model-agnostic.<br>- Simple, intuitive visualizations. | - Shows overall feature-outcome relationships.<br>- Captures non-linear effects.<br>- Easy to interpret. |\n",
    "| **Cons** | - Computationally expensive.<br>- Harder for non-experts to interpret. | - Only explains individual predictions.<br>- May vary for similar patients.<br>- Weaker theoretical foundation. | - Assumes feature independence.<br>- Can mislead if features are correlated.<br>- Limited to 1-2 features at a time. |\n",
    "\n",
    "## Comparison\n",
    "\n",
    "- **SHAP**: Best for complete mathematical understanding\n",
    "- **LIME**: Best for explaining individual patient predictions\n",
    "- **PDP**: Best for seeing how specific risk factors affect heart disease predictions overall\n"
   ]
  },
  {
   "cell_type": "code",
   "execution_count": null,
   "id": "0c782448",
   "metadata": {},
   "outputs": [],
   "source": []
  }
 ],
 "metadata": {
  "kernelspec": {
   "display_name": "Python 3 (ipykernel)",
   "language": "python",
   "name": "python3"
  },
  "language_info": {
   "codemirror_mode": {
    "name": "ipython",
    "version": 3
   },
   "file_extension": ".py",
   "mimetype": "text/x-python",
   "name": "python",
   "nbconvert_exporter": "python",
   "pygments_lexer": "ipython3",
   "version": "3.10.14"
  }
 },
 "nbformat": 4,
 "nbformat_minor": 5
}
